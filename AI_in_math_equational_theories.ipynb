{
  "nbformat": 4,
  "nbformat_minor": 0,
  "metadata": {
    "colab": {
      "provenance": [],
      "authorship_tag": "ABX9TyO6AK4i+EP/twECcO+lvWQX",
      "include_colab_link": true
    },
    "kernelspec": {
      "name": "python3",
      "display_name": "Python 3"
    },
    "language_info": {
      "name": "python"
    }
  },
  "cells": [
    {
      "cell_type": "markdown",
      "metadata": {
        "id": "view-in-github",
        "colab_type": "text"
      },
      "source": [
        "<a href=\"https://colab.research.google.com/github/hshen13/workable-colab/blob/main/AI_in_math_equational_theories.ipynb\" target=\"_parent\"><img src=\"https://colab.research.google.com/assets/colab-badge.svg\" alt=\"Open In Colab\"/></a>"
      ]
    },
    {
      "cell_type": "code",
      "execution_count": null,
      "metadata": {
        "colab": {
          "base_uri": "https://localhost:8080/"
        },
        "id": "DZO8d-xDaoTC",
        "outputId": "113b7a51-7f88-4f16-b92e-f2caef3fb36f"
      },
      "outputs": [
        {
          "output_type": "stream",
          "name": "stdout",
          "text": [
            "Cloning into 'equational_theories'...\n",
            "remote: Enumerating objects: 18248, done.\u001b[K\n",
            "remote: Counting objects: 100% (825/825), done.\u001b[K\n",
            "remote: Compressing objects: 100% (325/325), done.\u001b[K\n",
            "remote: Total 18248 (delta 722), reused 500 (delta 499), pack-reused 17423 (from 3)\u001b[K\n",
            "Receiving objects: 100% (18248/18248), 60.65 MiB | 11.23 MiB/s, done.\n",
            "Resolving deltas: 100% (13909/13909), done.\n",
            "Updating files: 100% (1717/1717), done.\n",
            "find: unknown predicate `-maxdepth=2'\n"
          ]
        }
      ],
      "source": [
        "# 克隆 equational_theories 项目代码到 Colab 虚拟机\n",
        "!git clone https://github.com/teorth/equational_theories.git\n",
        "\n",
        "# 查看下载的文件结构（可选）\n",
        "!find equational_theories -maxdepth=2 | sort\n"
      ]
    },
    {
      "cell_type": "code",
      "source": [
        "# 定义检测左单位元和右单位元性质的函数\n",
        "# 对于一个 magma，其操作表用一个嵌套列表表示，\n",
        "# 假设元素为 0, 1, 2, …, n-1，table[i][j] 表示 i ◇ j 的结果。\n",
        "\n",
        "def has_left_identity(table, candidate):\n",
        "    \"\"\"\n",
        "    检查 candidate 是否为左单位元，即对于所有 x, table[candidate][x] == x\n",
        "    \"\"\"\n",
        "    n = len(table)\n",
        "    for x in range(n):\n",
        "        if table[candidate][x] != x:\n",
        "            return False\n",
        "    return True\n",
        "\n",
        "def has_right_identity(table, candidate):\n",
        "    \"\"\"\n",
        "    检查 candidate 是否为右单位元，即对于所有 x, table[x][candidate] == x\n",
        "    \"\"\"\n",
        "    n = len(table)\n",
        "    for x in range(n):\n",
        "        if table[x][candidate] != x:\n",
        "            return False\n",
        "    return True\n",
        "\n",
        "# 定义一个 2 元 magma 的操作表\n",
        "# 我们希望 e = 0 为左单位元：\n",
        "#   table[0] = [0, 1]  意味着 0 ◇ 0 = 0, 0 ◇ 1 = 1\n",
        "# 但在第二行，table[1] = [0, 1]，即 1 ◇ 0 = 0 ≠ 1，所以 0 不是右单位元\n",
        "table = [\n",
        "    [0, 1],\n",
        "    [0, 1]\n",
        "]\n",
        "\n",
        "print(\"Magma 操作表：\")\n",
        "for row in table:\n",
        "    print(row)\n",
        "\n",
        "# 检查每个候选元素是否为左单位元和右单位元\n",
        "n = len(table)\n",
        "for candidate in range(n):\n",
        "    left = has_left_identity(table, candidate)\n",
        "    right = has_right_identity(table, candidate)\n",
        "    print(f\"候选元素 {candidate}：左单位元？ {left}，右单位元？ {right}\")\n"
      ],
      "metadata": {
        "colab": {
          "base_uri": "https://localhost:8080/"
        },
        "id": "ZyQRHDycauRH",
        "outputId": "ad6deb8e-c380-4a93-8431-18951cbf6089"
      },
      "execution_count": null,
      "outputs": [
        {
          "output_type": "stream",
          "name": "stdout",
          "text": [
            "Magma 操作表：\n",
            "[0, 1]\n",
            "[0, 1]\n",
            "候选元素 0：左单位元？ True，右单位元？ False\n",
            "候选元素 1：左单位元？ True，右单位元？ False\n"
          ]
        }
      ]
    },
    {
      "cell_type": "code",
      "source": [
        "# 示例：运行项目中的脚本进行测试（具体参数需参考项目文档），验证或者直接证伪某个implication关系\n",
        "!python3 equational_theories/scripts/explore_magma.py \"[[0,1],[0,1]]\" --ids 1,2 --verbose\n"
      ],
      "metadata": {
        "colab": {
          "base_uri": "https://localhost:8080/"
        },
        "id": "bQAvD8NAawXK",
        "outputId": "60285fe5-1a86-4b2f-ee08-c144619c788c"
      },
      "execution_count": null,
      "outputs": [
        {
          "output_type": "stream",
          "name": "stdout",
          "text": [
            "Magma table: [[0, 1], [0, 1]]\n",
            "\n",
            "|       | **0** | **1** |\n",
            "|-------|-------|-------|\n",
            "| **0** |   0   |   1   |\n",
            "| **1** |   0   |   1   |\n",
            "\n",
            "```\n",
            "0 ◇ 0 = 0     0 ◇ 1 = 1\n",
            "1 ◇ 0 = 0     1 ◇ 1 = 1\n",
            "```\n",
            "\n",
            "```\n",
            "    1. x = x ✅\n",
            "       0 = 0 # example with x=0\n",
            "\n",
            "    2. x = y ❌\n",
            "       0 ≠ 1 # counterexample with x=0, y=1\n",
            "\n",
            "```\n",
            "\n",
            "Magma tested against 2 equations:\n",
            "* 1 passed (50.0%)\n",
            "* 1 failed (50.0%)\n"
          ]
        }
      ]
    },
    {
      "cell_type": "code",
      "source": [
        "#找反例的例子\n",
        "import random\n",
        "import itertools\n",
        "\n",
        "# 定义集合大小\n",
        "n = 5  # magma 元素集合 {0,1,2,3,4}\n",
        "\n",
        "def generate_random_magma(n):\n",
        "    \"\"\"\n",
        "    随机生成一个 n x n 的 magma 运算表，\n",
        "    每个运算结果为 0 到 n-1 的随机整数。\n",
        "    \"\"\"\n",
        "    return [[random.randrange(n) for _ in range(n)] for _ in range(n)]\n",
        "\n",
        "def check_eq_A(table):\n",
        "    \"\"\"\n",
        "    检查候选等式 A 是否成立：\n",
        "\n",
        "    ((x ◇ y) ◇ z) ◇ (u ◇ v) = (x ◇ y) ◇ (z ◇ (u ◇ v))\n",
        "\n",
        "    对于 table 表示的 magma，枚举所有 5 个变量的赋值（x,y,z,u,v）。\n",
        "    \"\"\"\n",
        "    for x, y, z, u, v in itertools.product(range(n), repeat=5):\n",
        "        # 计算左侧：((x ◇ y) ◇ z) ◇ (u ◇ v)\n",
        "        a = table[x][y]        # x ◇ y\n",
        "        b = table[a][z]        # (x ◇ y) ◇ z\n",
        "        c = table[u][v]        # u ◇ v\n",
        "        left = table[b][c]     # ((x ◇ y) ◇ z) ◇ (u ◇ v)\n",
        "\n",
        "        # 计算右侧：(x ◇ y) ◇ (z ◇ (u ◇ v))\n",
        "        a = table[x][y]        # x ◇ y\n",
        "        d = table[u][v]        # u ◇ v\n",
        "        e = table[z][d]        # z ◇ (u ◇ v)\n",
        "        right = table[a][e]    # (x ◇ y) ◇ (z ◇ (u ◇ v))\n",
        "\n",
        "        if left != right:\n",
        "            return False\n",
        "    return True\n",
        "\n",
        "def check_eq_B(table):\n",
        "    \"\"\"\n",
        "    检查候选等式 B 是否成立：\n",
        "\n",
        "    (x ◇ y) ◇ (z ◇ (u ◇ v)) = (x ◇ (y ◇ z)) ◇ (u ◇ v)\n",
        "\n",
        "    同样枚举所有 5 个变量的赋值验证此等式。\n",
        "    \"\"\"\n",
        "    for x, y, z, u, v in itertools.product(range(n), repeat=5):\n",
        "        # 计算左侧： (x ◇ y) ◇ (z ◇ (u ◇ v))\n",
        "        a = table[x][y]        # x ◇ y\n",
        "        d = table[u][v]        # u ◇ v\n",
        "        b = table[z][d]        # z ◇ (u ◇ v)\n",
        "        left = table[a][b]     # (x ◇ y) ◇ (z ◇ (u ◇ v))\n",
        "\n",
        "        # 计算右侧： (x ◇ (y ◇ z)) ◇ (u ◇ v)\n",
        "        f = table[y][z]        # y ◇ z\n",
        "        c = table[x][f]        # x ◇ (y ◇ z)\n",
        "        right = table[c][d]    # (x ◇ (y ◇ z)) ◇ (u ◇ v)\n",
        "\n",
        "        if left != right:\n",
        "            return False\n",
        "    return True\n",
        "\n",
        "# 测试蕴涵关系：寻找一个 magma 满足候选等式 A 但不满足候选等式 B\n",
        "\n",
        "num_samples = 1000  # 随机测试样本数\n",
        "counterexample_found = False\n",
        "counterexample = None\n",
        "\n",
        "for i in range(num_samples):\n",
        "    table = generate_random_magma(n)\n",
        "    if check_eq_A(table):  # 如果满足候选等式 A\n",
        "        if not check_eq_B(table):  # 但不满足候选等式 B\n",
        "            counterexample_found = True\n",
        "            counterexample = table\n",
        "            print(\"在样本\", i+1, \"中找到反例！\")\n",
        "            break\n",
        "\n",
        "if counterexample_found:\n",
        "    print(\"\\n找到满足候选等式 A 但不满足候选等式 B 的 magma 运算表：\")\n",
        "    for row in counterexample:\n",
        "        print(row)\n",
        "else:\n",
        "    print(\"在\", num_samples, \"个随机样本中，没有找到反例。\\n这并不证明 A 蕴涵 B，但在有限样本内没有发现反例。\")\n"
      ],
      "metadata": {
        "colab": {
          "base_uri": "https://localhost:8080/"
        },
        "id": "gJQtoWFei5wi",
        "outputId": "12dd03b2-b86d-44e4-9ae4-f7d3cf041079"
      },
      "execution_count": null,
      "outputs": [
        {
          "output_type": "stream",
          "name": "stdout",
          "text": [
            "在 1000 个随机样本中，没有找到反例。\n",
            "这并不证明 A 蕴涵 B，但在有限样本内没有发现反例。\n"
          ]
        }
      ]
    }
  ]
}